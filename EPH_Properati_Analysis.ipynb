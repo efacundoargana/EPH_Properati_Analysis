{
  "nbformat": 4,
  "nbformat_minor": 0,
  "metadata": {
    "colab": {
      "provenance": [],
      "include_colab_link": true
    },
    "kernelspec": {
      "name": "python3",
      "display_name": "Python 3"
    },
    "language_info": {
      "name": "python"
    }
  },
  "cells": [
    {
      "cell_type": "markdown",
      "metadata": {
        "id": "view-in-github",
        "colab_type": "text"
      },
      "source": [
        "<a href=\"https://colab.research.google.com/github/efacundoargana/EPH_Properati_Analysis/blob/main/EPH_Properati_Analysis.ipynb\" target=\"_parent\"><img src=\"https://colab.research.google.com/assets/colab-badge.svg\" alt=\"Open In Colab\"/></a>"
      ]
    },
    {
      "cell_type": "markdown",
      "metadata": {
        "id": "Fgq2R4ECd3r7"
      },
      "source": [
        "# Data analysis using income and house pricing data\n",
        "Inspired by the work done by Pablo Orazi, found here: https://twitter.com/pablo_orazi/status/1427601914494177287\n"
      ]
    },
    {
      "cell_type": "code",
      "metadata": {
        "id": "pcyXxLVS5dYm"
      },
      "source": [
        "# Import libraries\n",
        "from urllib.request import urlopen\n",
        "from io import BytesIO, StringIO\n",
        "from zipfile import ZipFile\n",
        "import pandas as pd\n",
        "import numpy as np\n",
        "import gzip\n",
        "import requests"
      ],
      "execution_count": null,
      "outputs": []
    },
    {
      "cell_type": "markdown",
      "metadata": {
        "id": "u_P4gQcUCdkh"
      },
      "source": [
        "### Read input information\n",
        "\n",
        "We will read data from four different data sources:\n",
        "* EPH, from INDEC\n",
        "* Housing prices, from Properati\n",
        "* Salary information, from INDEC\n",
        "* Exchange rate information, from BCRA"
      ]
    },
    {
      "cell_type": "code",
      "metadata": {
        "id": "baJkcYVQ5w3M"
      },
      "source": [
        "# Read EPH\n",
        "url_zip = \"https://www.indec.gob.ar/ftp/cuadros/menusuperior/eph/EPH_usu_1_Trim_2021_txt.zip\"\n",
        "\n",
        "http_response = urlopen(url_zip)\n",
        "zipfile = ZipFile(BytesIO(http_response.read()))\n",
        "\n",
        "archivo_txt = zipfile.open(\"EPH_usu_1_Trim_2021_txt/usu_individual_T121.txt\")\n",
        "\n",
        "df = pd.read_csv(archivo_txt, sep=\";\")"
      ],
      "execution_count": null,
      "outputs": []
    },
    {
      "cell_type": "code",
      "metadata": {
        "id": "jGzsLtfb86yU"
      },
      "source": [
        "# Read properati information\n",
        "url_prop = \"https://storage.googleapis.com/properati-data-public/ar_properties.csv.gz\"\n",
        "http_response = urlopen(url_prop)\n",
        "zipfile = gzip.open(BytesIO(http_response.read()), 'rb')\n",
        "file_content=zipfile.read()\n",
        "\n",
        "# Write txt with Properati data as bytes cannot be read\n",
        "s=str(file_content,'utf-8')\n",
        "file = open(\"prop_data.txt\",\"w\")\n",
        "file.write(s)\n",
        "\n",
        "# Read properati data\n",
        "df_prop = pd.read_csv('prop_data.txt')"
      ],
      "execution_count": null,
      "outputs": []
    },
    {
      "cell_type": "code",
      "metadata": {
        "id": "upt4-kIF-Sd9"
      },
      "source": [
        "# Read Salary information\n",
        "url_salary = \"https://www.indec.gob.ar/ftp/cuadros/sociedad/variaciones_salarios_08_21.xls\"\n",
        "\n",
        "cols = ['Year', 'Month', 'Private MoM Variation', 'Private Index',\n",
        "        'Public MoM Variation', 'Public Index', 'Registered MoM Variation',\n",
        "        'Registered Index', 'NonRegistered MoM Variation',\n",
        "        'NonRegistered Index', 'Total MoM Variation', 'Total Index']\n",
        "df_salary = pd.read_excel(url_salary, header=7)\n",
        "df_salary.columns = cols\n",
        "df_salary['Year'] = df_salary['Year'].fillna(method='ffill')"
      ],
      "execution_count": null,
      "outputs": []
    },
    {
      "cell_type": "code",
      "metadata": {
        "id": "T1ZTYUgo510A"
      },
      "source": [
        "# Read dollar Exchange Rate information\n",
        "url_dollar = \"http://www.bcra.gob.ar/Pdfs/PublicacionesEstadisticas/com3500.xls\"\n",
        "df_dollar = pd.read_excel(url_dollar, header=3)\n",
        "df_dollar['Fecha'] = pd.to_datetime(df_dollar['Fecha'])"
      ],
      "execution_count": null,
      "outputs": []
    },
    {
      "cell_type": "markdown",
      "metadata": {
        "id": "FWfMklm_HTlo"
      },
      "source": [
        "### Pre-Process Data\n",
        "\n",
        "For the pre-processing we will\n",
        "* Scale salaries to reflect values in June-2020 ARS\n",
        "* Filter data, both in the EPH and in the Properati Dataset\n",
        "* Convert housing prices to ARS\n",
        "\n",
        "Documentation on the EPH can be found in the following link: https://www.indec.gob.ar/ftp/cuadros/menusuperior/eph/EPH_diseno_reg_t414.pdf"
      ]
    },
    {
      "cell_type": "code",
      "metadata": {
        "id": "7DcuFKVgHrPx"
      },
      "source": [
        "# Calculate salary index comparing June-2021 with March-2021\n",
        "salary_index_june = df_salary[(df_salary['Year'] == '2021* ') &\n",
        "                              (df_salary['Month'] == 'Junio')\n",
        "                              ].reset_index(\n",
        "                                  drop=True)\n",
        "salary_index_june = salary_index_june['Total Index'][0]\n",
        "\n",
        "salary_index_march = df_salary[(df_salary['Year'] == '2021* ') &\n",
        "                              (df_salary['Month'] == 'Marzo')\n",
        "                              ].reset_index(\n",
        "                                  drop=True)\n",
        "salary_index_march = salary_index_march['Total Index'][0]\n",
        "salary_ratio = salary_index_june / salary_index_march"
      ],
      "execution_count": null,
      "outputs": []
    },
    {
      "cell_type": "code",
      "metadata": {
        "id": "zfp7OkaaH1nR"
      },
      "source": [
        "# Scale Salary column to June-2021 ARS\n",
        "df['REAL_INCOME'] = df['P47T'] * salary_ratio"
      ],
      "execution_count": null,
      "outputs": []
    },
    {
      "cell_type": "code",
      "metadata": {
        "id": "k8lEzzohInCu"
      },
      "source": [
        "\"\"\"\n",
        "Filter EPH information\n",
        "\n",
        "The filters we will apply will be\n",
        "* Complete University Studies (NIVEL_ED = 6)\n",
        "* Worker (CAT_OCUP = 3)\n",
        "* Positive income (REAL_INCOME > 0)\n",
        "\"\"\"\n",
        "df.query('NIVEL_ED == 6 and CAT_OCUP == 3 and REAL_INCOME > 0', inplace=True)"
      ],
      "execution_count": null,
      "outputs": []
    },
    {
      "cell_type": "code",
      "metadata": {
        "id": "fmGYyxiSJip7"
      },
      "source": [
        "\"\"\"\n",
        "Filter properati information\n",
        "* Filter old ads (end_date < today)\n",
        "* Just selling ands-no renting (operation_type = 'Venta')\n",
        "* Keep Housing ads (property_type in ('Casa', 'Departamento', 'PH'))\n",
        "* Keep ads in USD (currency = 'USD')\n",
        "* Keep ads with a price (price > 0)\n",
        "\"\"\"\n",
        "df_prop.query(\"end_date < '2021-08-18' and operation_type == 'Venta' and currency == 'USD' and price > 0 and surface_total > 0 and l1 == 'Argentina'\", inplace=True)\n",
        "df_prop = df_prop[df_prop['property_type'].isin(['Casa', 'Departamento', 'PH'])]"
      ],
      "execution_count": null,
      "outputs": []
    },
    {
      "cell_type": "code",
      "metadata": {
        "id": "2kaGGydUMBYL"
      },
      "source": [
        "# Transform prices to ARS\n",
        "fx_date = df_dollar[df_dollar['Fecha'].astype(str) == '2021-06-30'].reset_index(drop=True)\n",
        "fx = fx_date['Tipo de Cambio de Referencia - en Pesos - por Dólar'][0]\n",
        "\n",
        "# We multiply the values given existing taxes\n",
        "fx = fx*1.3*1.35"
      ],
      "execution_count": null,
      "outputs": []
    },
    {
      "cell_type": "code",
      "metadata": {
        "id": "LDGQpj_vMLCl"
      },
      "source": [
        "df_prop['price_ars'] = df_prop['price'] * fx\n",
        "df_prop['price_m2'] = df_prop['price'] / df_prop['surface_total']\n",
        "df_prop['price_60_m2'] = df_prop['price_m2'] * 60\n",
        "df_prop['price_60_m2_ars'] = df_prop['price_m2'] * 60 * fx"
      ],
      "execution_count": null,
      "outputs": []
    },
    {
      "cell_type": "markdown",
      "metadata": {
        "id": "0pd8l9FlRDCL"
      },
      "source": [
        "### Analyze Data\n",
        "\n",
        "In this analysis we will\n",
        "* Calculate income distribution\n",
        "* Calculate median and 75th percentile of income distribution by age group and region\n",
        "* Calculate number of years necessary to buy a 60m2 apartment by region and age group"
      ]
    },
    {
      "cell_type": "markdown",
      "metadata": {
        "id": "s05KPpDHXICA"
      },
      "source": [
        "#### Calculate income distribution"
      ]
    },
    {
      "cell_type": "code",
      "metadata": {
        "id": "imB7yTrcUk5t"
      },
      "source": [
        "def weighted_quantile(values, quantiles, sample_weight=None,\n",
        "                      values_sorted=False, old_style=False):\n",
        "  # Source: https://stackoverflow.com/questions/21844024/weighted-percentile-using-numpy\n",
        "    \"\"\" Very close to numpy.percentile, but supports weights.\n",
        "    NOTE: quantiles should be in [0, 1]!\n",
        "    :param values: numpy.array with data\n",
        "    :param quantiles: array-like with many quantiles needed\n",
        "    :param sample_weight: array-like of the same length as `array`\n",
        "    :param values_sorted: bool, if True, then will avoid sorting of\n",
        "        initial array\n",
        "    :param old_style: if True, will correct output to be consistent\n",
        "        with numpy.percentile.\n",
        "    :return: numpy.array with computed quantiles.\n",
        "    \"\"\"\n",
        "    values = np.array(values)\n",
        "    quantiles = np.array(quantiles)\n",
        "    if sample_weight is None:\n",
        "        sample_weight = np.ones(len(values))\n",
        "    sample_weight = np.array(sample_weight)\n",
        "    assert np.all(quantiles >= 0) and np.all(quantiles <= 1), \\\n",
        "        'quantiles should be in [0, 1]'\n",
        "\n",
        "    if not values_sorted:\n",
        "        sorter = np.argsort(values)\n",
        "        values = values[sorter]\n",
        "        sample_weight = sample_weight[sorter]\n",
        "\n",
        "    weighted_quantiles = np.cumsum(sample_weight) - 0.5 * sample_weight\n",
        "    if old_style:\n",
        "        # To be convenient with numpy.percentile\n",
        "        weighted_quantiles -= weighted_quantiles[0]\n",
        "        weighted_quantiles /= weighted_quantiles[-1]\n",
        "    else:\n",
        "        weighted_quantiles /= np.sum(sample_weight)\n",
        "    return np.interp(quantiles, weighted_quantiles, values)"
      ],
      "execution_count": null,
      "outputs": []
    },
    {
      "cell_type": "code",
      "metadata": {
        "colab": {
          "base_uri": "https://localhost:8080/"
        },
        "id": "E8zcaHs8Uqb6",
        "outputId": "58f403ef-3a20-4e00-a92d-1fc5b18affa1"
      },
      "source": [
        "quantiles = weighted_quantile(values=df['REAL_INCOME'], quantiles=[0.25, 0.5, 0.75], sample_weight=df['PONDERA'])\n",
        "quantiles"
      ],
      "execution_count": null,
      "outputs": [
        {
          "output_type": "execute_result",
          "data": {
            "text/plain": [
              "array([43428.44454313, 65142.6668147 , 97714.00022205])"
            ]
          },
          "metadata": {
            "tags": []
          },
          "execution_count": 13
        }
      ]
    },
    {
      "cell_type": "code",
      "metadata": {
        "colab": {
          "base_uri": "https://localhost:8080/",
          "height": 441
        },
        "id": "3PB2G9crMQ4p",
        "outputId": "0839f720-8965-4487-f6a0-a1db8a52a007"
      },
      "source": [
        "# Plot of income distribution\n",
        "ax = df['REAL_INCOME'].plot(kind=\"hist\", weights=df['PONDERA'], bins=100, figsize=(18, 6))\n",
        "df.sort_values('REAL_INCOME', inplace=True)\n",
        "ax.set_title(\"Sueldos 1er Trimestre 2021: Histograma Ponderado del nivel salarial - Sueldos a niveles de precio de Junio 2021\")\n",
        "\n",
        "median = quantiles[1]\n",
        "first_q = quantiles[0]\n",
        "third_q = quantiles[2]\n",
        "print(\"Primer cuartil de los ingresos: \", round(first_q, 2))\n",
        "print(\"Mediana de los ingresos: \", round(median, 2))\n",
        "print(\"Tercer cuartil de los ingresos: \", round(third_q, 2))\n",
        "ax.axvline(median, color=\"yellow\");\n",
        "ax.axvline(first_q, color=\"red\");\n",
        "ax.axvline(third_q, color=\"green\");"
      ],
      "execution_count": null,
      "outputs": [
        {
          "output_type": "stream",
          "text": [
            "Primer cuartil de los ingresos:  43428.44\n",
            "Mediana de los ingresos:  65142.67\n",
            "Tercer cuartil de los ingresos:  97714.0\n"
          ],
          "name": "stdout"
        },
        {
          "output_type": "display_data",
          "data": {
            "image/png": "[encoded data removed]",
            "text/plain": [
              "<Figure size 1296x432 with 1 Axes>"
            ]
          },
          "metadata": {
            "tags": [],
            "needs_background": "light"
          }
        }
      ]
    },
    {
      "cell_type": "markdown",
      "metadata": {
        "id": "7Ec69z-oXD6j"
      },
      "source": [
        "#### Calculate median and 75th percentile of income distribution by age group and region"
      ]
    },
    {
      "cell_type": "code",
      "metadata": {
        "id": "tF2RRkmeMVBa"
      },
      "source": [
        "# Create an age group column\n",
        "df['age_first_digit'] = np.floor(df['CH06'] / 10)\n",
        "df['age_first_digit'] = df['age_first_digit'].astype(int)\n",
        "df['age_group'] = df['age_first_digit'].astype(str) + \"0-\" + df['age_first_digit'].astype(str) + \"9\""
      ],
      "execution_count": null,
      "outputs": []
    },
    {
      "cell_type": "code",
      "metadata": {
        "id": "Sq0FgMENT5GR"
      },
      "source": [
        "# Create a dictionary in which we'll have region information\n",
        "median_by_region = {\n",
        "    \"Gran Buenos Aires\": {'Code': 1, 'Medians': [], 'Third Quartiles': []},\n",
        "    \"NOA\": {'Code': 40, 'Medians': [], 'Third Quartiles': []},\n",
        "    \"NEA\": {'Code': 41, 'Medians': [], 'Third Quartiles': []},\n",
        "    \"Cuyo\": {'Code': 42, 'Medians': [], 'Third Quartiles': []},\n",
        "    \"Pampeana\": {'Code': 43, 'Medians': [], 'Third Quartiles': []},\n",
        "    \"Patagónica\": {'Code': 44, 'Medians': [], 'Third Quartiles': []},\n",
        "}\n",
        "age_groups = ['20-29', '30-39', '40-49', '50-59']\n",
        "\n",
        "# Calculate median by region and age group\n",
        "for region in median_by_region:\n",
        "  for age_group in age_groups:\n",
        "    df_filt = df[(df['REGION'] == median_by_region[region]['Code']) & (df['age_group'] == age_group)]\n",
        "    quantiles = weighted_quantile(values=df_filt['REAL_INCOME'], quantiles=[0.5, 0.75], sample_weight=df_filt['PONDERA'])\n",
        "    median_by_region[region]['Medians'].append(round(quantiles[0], 2))\n",
        "    median_by_region[region]['Third Quartiles'].append(round(quantiles[1], 2))"
      ],
      "execution_count": null,
      "outputs": []
    },
    {
      "cell_type": "code",
      "metadata": {
        "id": "fMey41QBYc2g"
      },
      "source": [
        "# Create results of medians\n",
        "df_medians = pd.DataFrame(data={'Edad': age_groups})\n",
        "\n",
        "for region in median_by_region:\n",
        "  df_medians[region] = median_by_region[region]['Medians']"
      ],
      "execution_count": null,
      "outputs": []
    },
    {
      "cell_type": "code",
      "metadata": {
        "colab": {
          "base_uri": "https://localhost:8080/",
          "height": 141
        },
        "id": "EDmxOAGyZnP_",
        "outputId": "7a3bdb21-bc19-4b0c-ac10-2b167f2857f8"
      },
      "source": [
        "print(\"Mediana del sueldo mensual por Edad y Región - EPH 1er Trimestre 2021 - Datos con precios de Junio 2021\")\n",
        "df_medians.style.background_gradient(axis=None)"
      ],
      "execution_count": null,
      "outputs": [
        {
          "output_type": "stream",
          "text": [
            "Mediana del sueldo mensual por Edad y Región - EPH 1er Trimestre 2021 - Datos con precios de Junio 2021\n"
          ],
          "name": "stdout"
        },
        {
          "output_type": "execute_result",
          "data": {
            "text/html": [
              "<style  type=\"text/css\" >\n",
              "#T_6539d248_002b_11ec_86ea_0242ac1c0002row0_col1{\n",
              "            background-color:  #a8bedc;\n",
              "            color:  #000000;\n",
              "        }#T_6539d248_002b_11ec_86ea_0242ac1c0002row0_col2{\n",
              "            background-color:  #fff7fb;\n",
              "            color:  #000000;\n",
              "        }#T_6539d248_002b_11ec_86ea_0242ac1c0002row0_col3{\n",
              "            background-color:  #f7f0f7;\n",
              "            color:  #000000;\n",
              "        }#T_6539d248_002b_11ec_86ea_0242ac1c0002row0_col4{\n",
              "            background-color:  #e7e3f0;\n",
              "            color:  #000000;\n",
              "        }#T_6539d248_002b_11ec_86ea_0242ac1c0002row0_col5{\n",
              "            background-color:  #f2ecf5;\n",
              "            color:  #000000;\n",
              "        }#T_6539d248_002b_11ec_86ea_0242ac1c0002row0_col6{\n",
              "            background-color:  #96b6d7;\n",
              "            color:  #000000;\n",
              "        }#T_6539d248_002b_11ec_86ea_0242ac1c0002row1_col1,#T_6539d248_002b_11ec_86ea_0242ac1c0002row2_col3{\n",
              "            background-color:  #9ebad9;\n",
              "            color:  #000000;\n",
              "        }#T_6539d248_002b_11ec_86ea_0242ac1c0002row1_col2{\n",
              "            background-color:  #d6d6e9;\n",
              "            color:  #000000;\n",
              "        }#T_6539d248_002b_11ec_86ea_0242ac1c0002row1_col3{\n",
              "            background-color:  #c2cbe2;\n",
              "            color:  #000000;\n",
              "        }#T_6539d248_002b_11ec_86ea_0242ac1c0002row1_col4{\n",
              "            background-color:  #d2d2e7;\n",
              "            color:  #000000;\n",
              "        }#T_6539d248_002b_11ec_86ea_0242ac1c0002row1_col5{\n",
              "            background-color:  #97b7d7;\n",
              "            color:  #000000;\n",
              "        }#T_6539d248_002b_11ec_86ea_0242ac1c0002row1_col6{\n",
              "            background-color:  #3790c0;\n",
              "            color:  #000000;\n",
              "        }#T_6539d248_002b_11ec_86ea_0242ac1c0002row2_col1{\n",
              "            background-color:  #197db7;\n",
              "            color:  #000000;\n",
              "        }#T_6539d248_002b_11ec_86ea_0242ac1c0002row2_col2{\n",
              "            background-color:  #b3c3de;\n",
              "            color:  #000000;\n",
              "        }#T_6539d248_002b_11ec_86ea_0242ac1c0002row2_col4{\n",
              "            background-color:  #b1c2de;\n",
              "            color:  #000000;\n",
              "        }#T_6539d248_002b_11ec_86ea_0242ac1c0002row2_col5,#T_6539d248_002b_11ec_86ea_0242ac1c0002row3_col2{\n",
              "            background-color:  #67a4cc;\n",
              "            color:  #000000;\n",
              "        }#T_6539d248_002b_11ec_86ea_0242ac1c0002row2_col6{\n",
              "            background-color:  #023c5f;\n",
              "            color:  #f1f1f1;\n",
              "        }#T_6539d248_002b_11ec_86ea_0242ac1c0002row3_col1{\n",
              "            background-color:  #045280;\n",
              "            color:  #f1f1f1;\n",
              "        }#T_6539d248_002b_11ec_86ea_0242ac1c0002row3_col3{\n",
              "            background-color:  #8fb4d6;\n",
              "            color:  #000000;\n",
              "        }#T_6539d248_002b_11ec_86ea_0242ac1c0002row3_col4{\n",
              "            background-color:  #0569a4;\n",
              "            color:  #f1f1f1;\n",
              "        }#T_6539d248_002b_11ec_86ea_0242ac1c0002row3_col5{\n",
              "            background-color:  #1278b4;\n",
              "            color:  #f1f1f1;\n",
              "        }#T_6539d248_002b_11ec_86ea_0242ac1c0002row3_col6{\n",
              "            background-color:  #023858;\n",
              "            color:  #f1f1f1;\n",
              "        }</style><table id=\"T_6539d248_002b_11ec_86ea_0242ac1c0002\" ><thead>    <tr>        <th class=\"blank level0\" ></th>        <th class=\"col_heading level0 col0\" >Edad</th>        <th class=\"col_heading level0 col1\" >Gran Buenos Aires</th>        <th class=\"col_heading level0 col2\" >NOA</th>        <th class=\"col_heading level0 col3\" >NEA</th>        <th class=\"col_heading level0 col4\" >Cuyo</th>        <th class=\"col_heading level0 col5\" >Pampeana</th>        <th class=\"col_heading level0 col6\" >Patagónica</th>    </tr></thead><tbody>\n",
              "                <tr>\n",
              "                        <th id=\"T_6539d248_002b_11ec_86ea_0242ac1c0002level0_row0\" class=\"row_heading level0 row0\" >0</th>\n",
              "                        <td id=\"T_6539d248_002b_11ec_86ea_0242ac1c0002row0_col0\" class=\"data row0 col0\" >20-29</td>\n",
              "                        <td id=\"T_6539d248_002b_11ec_86ea_0242ac1c0002row0_col1\" class=\"data row0 col1\" >56069.330000</td>\n",
              "                        <td id=\"T_6539d248_002b_11ec_86ea_0242ac1c0002row0_col2\" class=\"data row0 col2\" >34878.480000</td>\n",
              "                        <td id=\"T_6539d248_002b_11ec_86ea_0242ac1c0002row0_col3\" class=\"data row0 col3\" >37999.890000</td>\n",
              "                        <td id=\"T_6539d248_002b_11ec_86ea_0242ac1c0002row0_col4\" class=\"data row0 col4\" >43428.440000</td>\n",
              "                        <td id=\"T_6539d248_002b_11ec_86ea_0242ac1c0002row0_col5\" class=\"data row0 col5\" >39955.320000</td>\n",
              "                        <td id=\"T_6539d248_002b_11ec_86ea_0242ac1c0002row0_col6\" class=\"data row0 col6\" >58820.000000</td>\n",
              "            </tr>\n",
              "            <tr>\n",
              "                        <th id=\"T_6539d248_002b_11ec_86ea_0242ac1c0002level0_row1\" class=\"row_heading level0 row1\" >1</th>\n",
              "                        <td id=\"T_6539d248_002b_11ec_86ea_0242ac1c0002row1_col0\" class=\"data row1 col0\" >30-39</td>\n",
              "                        <td id=\"T_6539d248_002b_11ec_86ea_0242ac1c0002row1_col1\" class=\"data row1 col1\" >57542.690000</td>\n",
              "                        <td id=\"T_6539d248_002b_11ec_86ea_0242ac1c0002row1_col2\" class=\"data row1 col2\" >47771.290000</td>\n",
              "                        <td id=\"T_6539d248_002b_11ec_86ea_0242ac1c0002row1_col3\" class=\"data row1 col3\" >51571.280000</td>\n",
              "                        <td id=\"T_6539d248_002b_11ec_86ea_0242ac1c0002row1_col4\" class=\"data row1 col4\" >48857.000000</td>\n",
              "                        <td id=\"T_6539d248_002b_11ec_86ea_0242ac1c0002row1_col5\" class=\"data row1 col5\" >58628.400000</td>\n",
              "                        <td id=\"T_6539d248_002b_11ec_86ea_0242ac1c0002row1_col6\" class=\"data row1 col6\" >70571.220000</td>\n",
              "            </tr>\n",
              "            <tr>\n",
              "                        <th id=\"T_6539d248_002b_11ec_86ea_0242ac1c0002level0_row2\" class=\"row_heading level0 row2\" >2</th>\n",
              "                        <td id=\"T_6539d248_002b_11ec_86ea_0242ac1c0002row2_col0\" class=\"data row2 col0\" >40-49</td>\n",
              "                        <td id=\"T_6539d248_002b_11ec_86ea_0242ac1c0002row2_col1\" class=\"data row2 col1\" >74914.070000</td>\n",
              "                        <td id=\"T_6539d248_002b_11ec_86ea_0242ac1c0002row2_col2\" class=\"data row2 col2\" >54285.560000</td>\n",
              "                        <td id=\"T_6539d248_002b_11ec_86ea_0242ac1c0002row2_col3\" class=\"data row2 col3\" >57650.120000</td>\n",
              "                        <td id=\"T_6539d248_002b_11ec_86ea_0242ac1c0002row2_col4\" class=\"data row2 col4\" >54506.780000</td>\n",
              "                        <td id=\"T_6539d248_002b_11ec_86ea_0242ac1c0002row2_col5\" class=\"data row2 col5\" >65142.670000</td>\n",
              "                        <td id=\"T_6539d248_002b_11ec_86ea_0242ac1c0002row2_col6\" class=\"data row2 col6\" >91367.210000</td>\n",
              "            </tr>\n",
              "            <tr>\n",
              "                        <th id=\"T_6539d248_002b_11ec_86ea_0242ac1c0002level0_row3\" class=\"row_heading level0 row3\" >3</th>\n",
              "                        <td id=\"T_6539d248_002b_11ec_86ea_0242ac1c0002row3_col0\" class=\"data row3 col0\" >50-59</td>\n",
              "                        <td id=\"T_6539d248_002b_11ec_86ea_0242ac1c0002row3_col1\" class=\"data row3 col1\" >86856.890000</td>\n",
              "                        <td id=\"T_6539d248_002b_11ec_86ea_0242ac1c0002row3_col2\" class=\"data row3 col2\" >65142.670000</td>\n",
              "                        <td id=\"T_6539d248_002b_11ec_86ea_0242ac1c0002row3_col3\" class=\"data row3 col3\" >59714.110000</td>\n",
              "                        <td id=\"T_6539d248_002b_11ec_86ea_0242ac1c0002row3_col4\" class=\"data row3 col4\" >80340.910000</td>\n",
              "                        <td id=\"T_6539d248_002b_11ec_86ea_0242ac1c0002row3_col5\" class=\"data row3 col5\" >75999.780000</td>\n",
              "                        <td id=\"T_6539d248_002b_11ec_86ea_0242ac1c0002row3_col6\" class=\"data row3 col6\" >92285.440000</td>\n",
              "            </tr>\n",
              "    </tbody></table>"
            ],
            "text/plain": [
              "<pandas.io.formats.style.Styler at 0x7fbeb22be7d0>"
            ]
          },
          "metadata": {
            "tags": []
          },
          "execution_count": 18
        }
      ]
    },
    {
      "cell_type": "code",
      "metadata": {
        "id": "c-EXEfYIcJ8O"
      },
      "source": [
        "# Create results of medians\n",
        "df_3q = pd.DataFrame(data={'Edad': age_groups})\n",
        "\n",
        "for region in median_by_region:\n",
        "  df_3q[region] = median_by_region[region]['Third Quartiles']"
      ],
      "execution_count": null,
      "outputs": []
    },
    {
      "cell_type": "code",
      "metadata": {
        "colab": {
          "base_uri": "https://localhost:8080/",
          "height": 141
        },
        "id": "72rQ8lwqcvCS",
        "outputId": "20550f83-d7d3-4b0b-ae5c-0fe41507937c"
      },
      "source": [
        "print(\"Tercer cuartil del sueldo mensual por Edad y Región - EPH 1er Trimestre 2021 - Datos con precios de Junio 2021\")\n",
        "df_3q.style.background_gradient(axis=None)"
      ],
      "execution_count": null,
      "outputs": [
        {
          "output_type": "stream",
          "text": [
            "Tercer cuartil del sueldo mensual por Edad y Región - EPH 1er Trimestre 2021 - Datos con precios de Junio 2021\n"
          ],
          "name": "stdout"
        },
        {
          "output_type": "execute_result",
          "data": {
            "text/html": [
              "<style  type=\"text/css\" >\n",
              "#T_65437406_002b_11ec_86ea_0242ac1c0002row0_col1{\n",
              "            background-color:  #79abd0;\n",
              "            color:  #000000;\n",
              "        }#T_65437406_002b_11ec_86ea_0242ac1c0002row0_col2,#T_65437406_002b_11ec_86ea_0242ac1c0002row0_col3{\n",
              "            background-color:  #fff7fb;\n",
              "            color:  #000000;\n",
              "        }#T_65437406_002b_11ec_86ea_0242ac1c0002row0_col4{\n",
              "            background-color:  #d3d4e7;\n",
              "            color:  #000000;\n",
              "        }#T_65437406_002b_11ec_86ea_0242ac1c0002row0_col5{\n",
              "            background-color:  #f2ecf5;\n",
              "            color:  #000000;\n",
              "        }#T_65437406_002b_11ec_86ea_0242ac1c0002row0_col6{\n",
              "            background-color:  #8cb3d5;\n",
              "            color:  #000000;\n",
              "        }#T_65437406_002b_11ec_86ea_0242ac1c0002row1_col1{\n",
              "            background-color:  #3790c0;\n",
              "            color:  #000000;\n",
              "        }#T_65437406_002b_11ec_86ea_0242ac1c0002row1_col2,#T_65437406_002b_11ec_86ea_0242ac1c0002row2_col3{\n",
              "            background-color:  #c1cae2;\n",
              "            color:  #000000;\n",
              "        }#T_65437406_002b_11ec_86ea_0242ac1c0002row1_col3{\n",
              "            background-color:  #d7d6e9;\n",
              "            color:  #000000;\n",
              "        }#T_65437406_002b_11ec_86ea_0242ac1c0002row1_col4{\n",
              "            background-color:  #cacee5;\n",
              "            color:  #000000;\n",
              "        }#T_65437406_002b_11ec_86ea_0242ac1c0002row1_col5,#T_65437406_002b_11ec_86ea_0242ac1c0002row2_col2{\n",
              "            background-color:  #adc1dd;\n",
              "            color:  #000000;\n",
              "        }#T_65437406_002b_11ec_86ea_0242ac1c0002row1_col6,#T_65437406_002b_11ec_86ea_0242ac1c0002row3_col5{\n",
              "            background-color:  #2d8abd;\n",
              "            color:  #000000;\n",
              "        }#T_65437406_002b_11ec_86ea_0242ac1c0002row2_col1{\n",
              "            background-color:  #62a2cb;\n",
              "            color:  #000000;\n",
              "        }#T_65437406_002b_11ec_86ea_0242ac1c0002row2_col4{\n",
              "            background-color:  #a7bddb;\n",
              "            color:  #000000;\n",
              "        }#T_65437406_002b_11ec_86ea_0242ac1c0002row2_col5{\n",
              "            background-color:  #97b7d7;\n",
              "            color:  #000000;\n",
              "        }#T_65437406_002b_11ec_86ea_0242ac1c0002row2_col6{\n",
              "            background-color:  #0569a4;\n",
              "            color:  #f1f1f1;\n",
              "        }#T_65437406_002b_11ec_86ea_0242ac1c0002row3_col1{\n",
              "            background-color:  #023858;\n",
              "            color:  #f1f1f1;\n",
              "        }#T_65437406_002b_11ec_86ea_0242ac1c0002row3_col2{\n",
              "            background-color:  #93b5d6;\n",
              "            color:  #000000;\n",
              "        }#T_65437406_002b_11ec_86ea_0242ac1c0002row3_col3{\n",
              "            background-color:  #99b8d8;\n",
              "            color:  #000000;\n",
              "        }#T_65437406_002b_11ec_86ea_0242ac1c0002row3_col4{\n",
              "            background-color:  #4697c4;\n",
              "            color:  #000000;\n",
              "        }#T_65437406_002b_11ec_86ea_0242ac1c0002row3_col6{\n",
              "            background-color:  #034973;\n",
              "            color:  #f1f1f1;\n",
              "        }</style><table id=\"T_65437406_002b_11ec_86ea_0242ac1c0002\" ><thead>    <tr>        <th class=\"blank level0\" ></th>        <th class=\"col_heading level0 col0\" >Edad</th>        <th class=\"col_heading level0 col1\" >Gran Buenos Aires</th>        <th class=\"col_heading level0 col2\" >NOA</th>        <th class=\"col_heading level0 col3\" >NEA</th>        <th class=\"col_heading level0 col4\" >Cuyo</th>        <th class=\"col_heading level0 col5\" >Pampeana</th>        <th class=\"col_heading level0 col6\" >Patagónica</th>    </tr></thead><tbody>\n",
              "                <tr>\n",
              "                        <th id=\"T_65437406_002b_11ec_86ea_0242ac1c0002level0_row0\" class=\"row_heading level0 row0\" >0</th>\n",
              "                        <td id=\"T_65437406_002b_11ec_86ea_0242ac1c0002row0_col0\" class=\"data row0 col0\" >20-29</td>\n",
              "                        <td id=\"T_65437406_002b_11ec_86ea_0242ac1c0002row0_col1\" class=\"data row0 col1\" >93577.740000</td>\n",
              "                        <td id=\"T_65437406_002b_11ec_86ea_0242ac1c0002row0_col2\" class=\"data row0 col2\" >48857.000000</td>\n",
              "                        <td id=\"T_65437406_002b_11ec_86ea_0242ac1c0002row0_col3\" class=\"data row0 col3\" >48857.000000</td>\n",
              "                        <td id=\"T_65437406_002b_11ec_86ea_0242ac1c0002row0_col4\" class=\"data row0 col4\" >70846.550000</td>\n",
              "                        <td id=\"T_65437406_002b_11ec_86ea_0242ac1c0002row0_col5\" class=\"data row0 col5\" >56456.980000</td>\n",
              "                        <td id=\"T_65437406_002b_11ec_86ea_0242ac1c0002row0_col6\" class=\"data row0 col6\" >89396.350000</td>\n",
              "            </tr>\n",
              "            <tr>\n",
              "                        <th id=\"T_65437406_002b_11ec_86ea_0242ac1c0002level0_row1\" class=\"row_heading level0 row1\" >1</th>\n",
              "                        <td id=\"T_65437406_002b_11ec_86ea_0242ac1c0002row1_col0\" class=\"data row1 col0\" >30-39</td>\n",
              "                        <td id=\"T_65437406_002b_11ec_86ea_0242ac1c0002row1_col1\" class=\"data row1 col1\" >106400.150000</td>\n",
              "                        <td id=\"T_65437406_002b_11ec_86ea_0242ac1c0002row1_col2\" class=\"data row1 col2\" >75999.780000</td>\n",
              "                        <td id=\"T_65437406_002b_11ec_86ea_0242ac1c0002row1_col3\" class=\"data row1 col3\" >69293.480000</td>\n",
              "                        <td id=\"T_65437406_002b_11ec_86ea_0242ac1c0002row1_col4\" class=\"data row1 col4\" >73641.030000</td>\n",
              "                        <td id=\"T_65437406_002b_11ec_86ea_0242ac1c0002row1_col5\" class=\"data row1 col5\" >81428.330000</td>\n",
              "                        <td id=\"T_65437406_002b_11ec_86ea_0242ac1c0002row1_col6\" class=\"data row1 col6\" >108571.110000</td>\n",
              "            </tr>\n",
              "            <tr>\n",
              "                        <th id=\"T_65437406_002b_11ec_86ea_0242ac1c0002level0_row2\" class=\"row_heading level0 row2\" >2</th>\n",
              "                        <td id=\"T_65437406_002b_11ec_86ea_0242ac1c0002row2_col0\" class=\"data row2 col0\" >40-49</td>\n",
              "                        <td id=\"T_65437406_002b_11ec_86ea_0242ac1c0002row2_col1\" class=\"data row2 col1\" >98512.690000</td>\n",
              "                        <td id=\"T_65437406_002b_11ec_86ea_0242ac1c0002row2_col2\" class=\"data row2 col2\" >81428.330000</td>\n",
              "                        <td id=\"T_65437406_002b_11ec_86ea_0242ac1c0002row2_col3\" class=\"data row2 col3\" >75999.780000</td>\n",
              "                        <td id=\"T_65437406_002b_11ec_86ea_0242ac1c0002row2_col4\" class=\"data row2 col4\" >83352.400000</td>\n",
              "                        <td id=\"T_65437406_002b_11ec_86ea_0242ac1c0002row2_col5\" class=\"data row2 col5\" >86856.890000</td>\n",
              "                        <td id=\"T_65437406_002b_11ec_86ea_0242ac1c0002row2_col6\" class=\"data row2 col6\" >121873.280000</td>\n",
              "            </tr>\n",
              "            <tr>\n",
              "                        <th id=\"T_65437406_002b_11ec_86ea_0242ac1c0002level0_row3\" class=\"row_heading level0 row3\" >3</th>\n",
              "                        <td id=\"T_65437406_002b_11ec_86ea_0242ac1c0002row3_col0\" class=\"data row3 col0\" >50-59</td>\n",
              "                        <td id=\"T_65437406_002b_11ec_86ea_0242ac1c0002row3_col1\" class=\"data row3 col1\" >141142.440000</td>\n",
              "                        <td id=\"T_65437406_002b_11ec_86ea_0242ac1c0002row3_col2\" class=\"data row3 col2\" >88086.800000</td>\n",
              "                        <td id=\"T_65437406_002b_11ec_86ea_0242ac1c0002row3_col3\" class=\"data row3 col3\" >86488.800000</td>\n",
              "                        <td id=\"T_65437406_002b_11ec_86ea_0242ac1c0002row3_col4\" class=\"data row3 col4\" >103296.350000</td>\n",
              "                        <td id=\"T_65437406_002b_11ec_86ea_0242ac1c0002row3_col5\" class=\"data row3 col5\" >108571.110000</td>\n",
              "                        <td id=\"T_65437406_002b_11ec_86ea_0242ac1c0002row3_col6\" class=\"data row3 col6\" >135118.070000</td>\n",
              "            </tr>\n",
              "    </tbody></table>"
            ],
            "text/plain": [
              "<pandas.io.formats.style.Styler at 0x7fbeaee6e910>"
            ]
          },
          "metadata": {
            "tags": []
          },
          "execution_count": 20
        }
      ]
    },
    {
      "cell_type": "markdown",
      "metadata": {
        "id": "62O-tvu1dvdF"
      },
      "source": [
        "#### Calculate number of years necessary to buy a 60m2 apartment by region and age group"
      ]
    },
    {
      "cell_type": "code",
      "metadata": {
        "id": "vcYjh75vc-gd"
      },
      "source": [
        "# Calculate histogram of the value of a 60m2 apartment\n"
      ],
      "execution_count": null,
      "outputs": []
    },
    {
      "cell_type": "code",
      "metadata": {
        "colab": {
          "base_uri": "https://localhost:8080/",
          "height": 441
        },
        "id": "NZfwJvzUecdq",
        "outputId": "4fe6db37-ef6b-495d-dde3-94df0940000b"
      },
      "source": [
        "# Plot of income distribution\n",
        "\n",
        "# Filter until the 95th percentile because of outliers\n",
        "ax = df_prop[df_prop['price_60_m2'] < np.nanpercentile(df_prop['price_60_m2'], 95)]['price_60_m2'].plot(kind=\"hist\", bins=100, figsize=(18, 6))\n",
        "ax.set_title(\"Histograma de precios en US$ del mercado de viviendas de 60m2 Nivel Nacional- Properati\")\n",
        "\n",
        "median = np.median(df_prop['price_60_m2'])\n",
        "first_q = np.nanpercentile(df_prop['price_60_m2'], 25)\n",
        "third_q = np.nanpercentile(df_prop['price_60_m2'], 75)\n",
        "print(\"Primer cuartil de los precios: \", round(first_q, 2))\n",
        "print(\"Mediana de los precios: \", round(median, 2))\n",
        "print(\"Tercer cuartil de los precios: \", round(third_q, 2))\n",
        "ax.axvline(median, color=\"yellow\");\n",
        "ax.axvline(first_q, color=\"red\");\n",
        "ax.axvline(third_q, color=\"green\");"
      ],
      "execution_count": null,
      "outputs": [
        {
          "output_type": "stream",
          "text": [
            "Primer cuartil de los precios:  65454.55\n",
            "Mediana de los precios:  103493.45\n",
            "Tercer cuartil de los precios:  147056.6\n"
          ],
          "name": "stdout"
        },
        {
          "output_type": "display_data",
          "data": {
            "image/png": "[encoded data removed]",
            "text/plain": [
              "<Figure size 1296x432 with 1 Axes>"
            ]
          },
          "metadata": {
            "tags": [],
            "needs_background": "light"
          }
        }
      ]
    },
    {
      "cell_type": "code",
      "metadata": {
        "id": "bKXkpMCOerXl"
      },
      "source": [
        "# Create a dataframe that will relate regions in the EPH to the L2 in the Properati Table\n",
        "# This was done to our best understanding, using the information in the EPH documentation\n",
        "regions_dict = {\n",
        "    'Capital Federal': 1, 'Santa Fe' : 43, 'Bs.As. G.B.A. Zona Norte' : 1,\n",
        "       'Bs.As. G.B.A. Zona Oeste' : 1, 'Bs.As. G.B.A. Zona Sur': 1, 'Mendoza': 42,\n",
        "       'Buenos Aires Interior': 43, 'Misiones': 41,\n",
        "       'Buenos Aires Costa Atlántica': 43, 'Córdoba': 43, 'Entre Ríos': 43,\n",
        "       'Río Negro': 44, 'Neuquén': 44, 'Tucumán': 40, 'Chubut': 44, 'San Luis': 42,\n",
        "       'Corrientes': 41, 'Salta': 40, 'San Juan': 42, 'Jujuy': 40, 'La Pampa': 43, 'Chaco': 41,\n",
        "       'Santa Cruz': 44, 'La Rioja': 40, 'Tierra Del Fuego': 44,\n",
        "       'Santiago Del Estero': 40, 'Catamarca': 40, 'Formosa': 41\n",
        "}\n",
        "df_regions = pd.DataFrame(data={\n",
        "    'l2': list(regions_dict.keys()),\n",
        "    'REGION': [regions_dict[region] for region in regions_dict.keys()]\n",
        "})\n",
        "df_prop = pd.merge(df_prop, df_regions, how='left', on='l2')"
      ],
      "execution_count": null,
      "outputs": []
    },
    {
      "cell_type": "code",
      "metadata": {
        "id": "kLGpAN0Ch960"
      },
      "source": [
        "# Calculate the median of the price of a 60m2 apartment by region\n",
        "price_median_by_region = {}\n",
        "\n",
        "for region in df['REGION'].unique():\n",
        "  df_prop_filt = df_prop[df_prop['REGION'] == region]\n",
        "  price_median_by_region[region] = np.median(df_prop_filt['price_60_m2_ars'])"
      ],
      "execution_count": null,
      "outputs": []
    },
    {
      "cell_type": "code",
      "metadata": {
        "id": "ujDQW3y3fhlt"
      },
      "source": [
        "# Create a dictionary in which we'll have region information\n",
        "months_by_region = {\n",
        "    \"Gran Buenos Aires\": {'Code': 1, 'Months of Savings': []},\n",
        "    \"NOA\": {'Code': 40, 'Months of Savings': []},\n",
        "    \"NEA\": {'Code': 41, 'Months of Savings': []},\n",
        "    \"Cuyo\": {'Code': 42, 'Months of Savings': []},\n",
        "    \"Pampeana\": {'Code': 43, 'Months of Savings': []},\n",
        "    \"Patagónica\": {'Code': 44, 'Months of Savings': []},\n",
        "}\n",
        "age_groups = ['20-29', '30-39', '40-49', '50-59']\n",
        "\n",
        "# Calculate months necessary to buy 60m2 apartment by region and age group,\n",
        "# assuming you are saving 50% of your income\n",
        "for region in median_by_region:\n",
        "  for age_group in age_groups:\n",
        "    df_filt = df[(df['REGION'] == median_by_region[region]['Code']) & (df['age_group'] == age_group)]\n",
        "    quantiles = weighted_quantile(values=df_filt['REAL_INCOME'], quantiles=[0.5, 0.75], sample_weight=df_filt['PONDERA'])\n",
        "    income_median = quantiles[0]\n",
        "    monthly_savings = income_median\n",
        "    price = price_median_by_region[median_by_region[region]['Code']]\n",
        "    months_by_region[region]['Months of Savings'].append(price/monthly_savings)"
      ],
      "execution_count": null,
      "outputs": []
    },
    {
      "cell_type": "code",
      "metadata": {
        "id": "vlo2CGBLnTQI"
      },
      "source": [
        "# Create results of medians\n",
        "df_months = pd.DataFrame(data={'Edad': age_groups})\n",
        "\n",
        "for region in months_by_region:\n",
        "  df_months[region] = months_by_region[region]['Months of Savings']"
      ],
      "execution_count": null,
      "outputs": []
    },
    {
      "cell_type": "code",
      "metadata": {
        "colab": {
          "base_uri": "https://localhost:8080/",
          "height": 141
        },
        "id": "6mRh7Yr-hKTX",
        "outputId": "9a03cddb-f8d9-47fb-e463-9c40182bad00"
      },
      "source": [
        "print(\"Meses necesarios de ahorro para comprar un departamento de 60m2 por edad y región - Ahorro del 50% del sueldo de dos personas\")\n",
        "df_months.style.background_gradient(axis=None)"
      ],
      "execution_count": null,
      "outputs": [
        {
          "output_type": "stream",
          "text": [
            "Meses necesarios de ahorro para comprar un departamento de 60m2 por edad y región - Ahorro del 50% del sueldo de dos personas\n"
          ],
          "name": "stdout"
        },
        {
          "output_type": "execute_result",
          "data": {
            "text/html": [
              "<style  type=\"text/css\" >\n",
              "#T_8f10bdac_002b_11ec_86ea_0242ac1c0002row0_col1{\n",
              "            background-color:  #023858;\n",
              "            color:  #f1f1f1;\n",
              "        }#T_8f10bdac_002b_11ec_86ea_0242ac1c0002row0_col2{\n",
              "            background-color:  #589ec8;\n",
              "            color:  #000000;\n",
              "        }#T_8f10bdac_002b_11ec_86ea_0242ac1c0002row0_col3{\n",
              "            background-color:  #03446a;\n",
              "            color:  #f1f1f1;\n",
              "        }#T_8f10bdac_002b_11ec_86ea_0242ac1c0002row0_col4{\n",
              "            background-color:  #d4d4e8;\n",
              "            color:  #000000;\n",
              "        }#T_8f10bdac_002b_11ec_86ea_0242ac1c0002row0_col5{\n",
              "            background-color:  #046096;\n",
              "            color:  #f1f1f1;\n",
              "        }#T_8f10bdac_002b_11ec_86ea_0242ac1c0002row0_col6{\n",
              "            background-color:  #4897c4;\n",
              "            color:  #000000;\n",
              "        }#T_8f10bdac_002b_11ec_86ea_0242ac1c0002row1_col1{\n",
              "            background-color:  #034165;\n",
              "            color:  #f1f1f1;\n",
              "        }#T_8f10bdac_002b_11ec_86ea_0242ac1c0002row1_col2{\n",
              "            background-color:  #b4c4df;\n",
              "            color:  #000000;\n",
              "        }#T_8f10bdac_002b_11ec_86ea_0242ac1c0002row1_col3{\n",
              "            background-color:  #348ebf;\n",
              "            color:  #000000;\n",
              "        }#T_8f10bdac_002b_11ec_86ea_0242ac1c0002row1_col4{\n",
              "            background-color:  #e1dfed;\n",
              "            color:  #000000;\n",
              "        }#T_8f10bdac_002b_11ec_86ea_0242ac1c0002row1_col5{\n",
              "            background-color:  #79abd0;\n",
              "            color:  #000000;\n",
              "        }#T_8f10bdac_002b_11ec_86ea_0242ac1c0002row1_col6{\n",
              "            background-color:  #89b1d4;\n",
              "            color:  #000000;\n",
              "        }#T_8f10bdac_002b_11ec_86ea_0242ac1c0002row2_col1{\n",
              "            background-color:  #2081b9;\n",
              "            color:  #000000;\n",
              "        }#T_8f10bdac_002b_11ec_86ea_0242ac1c0002row2_col2{\n",
              "            background-color:  #cdd0e5;\n",
              "            color:  #000000;\n",
              "        }#T_8f10bdac_002b_11ec_86ea_0242ac1c0002row2_col3{\n",
              "            background-color:  #62a2cb;\n",
              "            color:  #000000;\n",
              "        }#T_8f10bdac_002b_11ec_86ea_0242ac1c0002row2_col4{\n",
              "            background-color:  #ebe6f2;\n",
              "            color:  #000000;\n",
              "        }#T_8f10bdac_002b_11ec_86ea_0242ac1c0002row2_col5{\n",
              "            background-color:  #97b7d7;\n",
              "            color:  #000000;\n",
              "        }#T_8f10bdac_002b_11ec_86ea_0242ac1c0002row2_col6{\n",
              "            background-color:  #c5cce3;\n",
              "            color:  #000000;\n",
              "        }#T_8f10bdac_002b_11ec_86ea_0242ac1c0002row3_col1{\n",
              "            background-color:  #5c9fc9;\n",
              "            color:  #000000;\n",
              "        }#T_8f10bdac_002b_11ec_86ea_0242ac1c0002row3_col2{\n",
              "            background-color:  #e2dfee;\n",
              "            color:  #000000;\n",
              "        }#T_8f10bdac_002b_11ec_86ea_0242ac1c0002row3_col3{\n",
              "            background-color:  #71a8ce;\n",
              "            color:  #000000;\n",
              "        }#T_8f10bdac_002b_11ec_86ea_0242ac1c0002row3_col4{\n",
              "            background-color:  #fff7fb;\n",
              "            color:  #000000;\n",
              "        }#T_8f10bdac_002b_11ec_86ea_0242ac1c0002row3_col5{\n",
              "            background-color:  #bbc7e0;\n",
              "            color:  #000000;\n",
              "        }#T_8f10bdac_002b_11ec_86ea_0242ac1c0002row3_col6{\n",
              "            background-color:  #c8cde4;\n",
              "            color:  #000000;\n",
              "        }</style><table id=\"T_8f10bdac_002b_11ec_86ea_0242ac1c0002\" ><thead>    <tr>        <th class=\"blank level0\" ></th>        <th class=\"col_heading level0 col0\" >Edad</th>        <th class=\"col_heading level0 col1\" >Gran Buenos Aires</th>        <th class=\"col_heading level0 col2\" >NOA</th>        <th class=\"col_heading level0 col3\" >NEA</th>        <th class=\"col_heading level0 col4\" >Cuyo</th>        <th class=\"col_heading level0 col5\" >Pampeana</th>        <th class=\"col_heading level0 col6\" >Patagónica</th>    </tr></thead><tbody>\n",
              "                <tr>\n",
              "                        <th id=\"T_8f10bdac_002b_11ec_86ea_0242ac1c0002level0_row0\" class=\"row_heading level0 row0\" >0</th>\n",
              "                        <td id=\"T_8f10bdac_002b_11ec_86ea_0242ac1c0002row0_col0\" class=\"data row0 col0\" >20-29</td>\n",
              "                        <td id=\"T_8f10bdac_002b_11ec_86ea_0242ac1c0002row0_col1\" class=\"data row0 col1\" >344.146094</td>\n",
              "                        <td id=\"T_8f10bdac_002b_11ec_86ea_0242ac1c0002row0_col2\" class=\"data row0 col2\" >223.978121</td>\n",
              "                        <td id=\"T_8f10bdac_002b_11ec_86ea_0242ac1c0002row0_col3\" class=\"data row0 col3\" >331.580624</td>\n",
              "                        <td id=\"T_8f10bdac_002b_11ec_86ea_0242ac1c0002row0_col4\" class=\"data row0 col4\" >136.362532</td>\n",
              "                        <td id=\"T_8f10bdac_002b_11ec_86ea_0242ac1c0002row0_col5\" class=\"data row0 col5\" >301.508152</td>\n",
              "                        <td id=\"T_8f10bdac_002b_11ec_86ea_0242ac1c0002row0_col6\" class=\"data row0 col6\" >232.952333</td>\n",
              "            </tr>\n",
              "            <tr>\n",
              "                        <th id=\"T_8f10bdac_002b_11ec_86ea_0242ac1c0002level0_row1\" class=\"row_heading level0 row1\" >1</th>\n",
              "                        <td id=\"T_8f10bdac_002b_11ec_86ea_0242ac1c0002row1_col0\" class=\"data row1 col0\" >30-39</td>\n",
              "                        <td id=\"T_8f10bdac_002b_11ec_86ea_0242ac1c0002row1_col1\" class=\"data row1 col1\" >335.334367</td>\n",
              "                        <td id=\"T_8f10bdac_002b_11ec_86ea_0242ac1c0002row1_col2\" class=\"data row1 col2\" >163.529535</td>\n",
              "                        <td id=\"T_8f10bdac_002b_11ec_86ea_0242ac1c0002row1_col3\" class=\"data row1 col3\" >244.322565</td>\n",
              "                        <td id=\"T_8f10bdac_002b_11ec_86ea_0242ac1c0002row1_col4\" class=\"data row1 col4\" >121.211139</td>\n",
              "                        <td id=\"T_8f10bdac_002b_11ec_86ea_0242ac1c0002row1_col5\" class=\"data row1 col5\" >205.478146</td>\n",
              "                        <td id=\"T_8f10bdac_002b_11ec_86ea_0242ac1c0002row1_col6\" class=\"data row1 col6\" >194.162080</td>\n",
              "            </tr>\n",
              "            <tr>\n",
              "                        <th id=\"T_8f10bdac_002b_11ec_86ea_0242ac1c0002level0_row2\" class=\"row_heading level0 row2\" >2</th>\n",
              "                        <td id=\"T_8f10bdac_002b_11ec_86ea_0242ac1c0002row2_col0\" class=\"data row2 col0\" >40-49</td>\n",
              "                        <td id=\"T_8f10bdac_002b_11ec_86ea_0242ac1c0002row2_col1\" class=\"data row2 col1\" >257.575673</td>\n",
              "                        <td id=\"T_8f10bdac_002b_11ec_86ea_0242ac1c0002row2_col2\" class=\"data row2 col2\" >143.905991</td>\n",
              "                        <td id=\"T_8f10bdac_002b_11ec_86ea_0242ac1c0002row2_col3\" class=\"data row2 col3\" >218.560299</td>\n",
              "                        <td id=\"T_8f10bdac_002b_11ec_86ea_0242ac1c0002row2_col4\" class=\"data row2 col4\" >108.647258</td>\n",
              "                        <td id=\"T_8f10bdac_002b_11ec_86ea_0242ac1c0002row2_col5\" class=\"data row2 col5\" >184.930332</td>\n",
              "                        <td id=\"T_8f10bdac_002b_11ec_86ea_0242ac1c0002row2_col6\" class=\"data row2 col6\" >149.969068</td>\n",
              "            </tr>\n",
              "            <tr>\n",
              "                        <th id=\"T_8f10bdac_002b_11ec_86ea_0242ac1c0002level0_row3\" class=\"row_heading level0 row3\" >3</th>\n",
              "                        <td id=\"T_8f10bdac_002b_11ec_86ea_0242ac1c0002row3_col0\" class=\"data row3 col0\" >50-59</td>\n",
              "                        <td id=\"T_8f10bdac_002b_11ec_86ea_0242ac1c0002row3_col1\" class=\"data row3 col1\" >222.159018</td>\n",
              "                        <td id=\"T_8f10bdac_002b_11ec_86ea_0242ac1c0002row3_col2\" class=\"data row3 col2\" >119.921659</td>\n",
              "                        <td id=\"T_8f10bdac_002b_11ec_86ea_0242ac1c0002row3_col3\" class=\"data row3 col3\" >211.005851</td>\n",
              "                        <td id=\"T_8f10bdac_002b_11ec_86ea_0242ac1c0002row3_col4\" class=\"data row3 col4\" >73.711046</td>\n",
              "                        <td id=\"T_8f10bdac_002b_11ec_86ea_0242ac1c0002row3_col5\" class=\"data row3 col5\" >158.511713</td>\n",
              "                        <td id=\"T_8f10bdac_002b_11ec_86ea_0242ac1c0002row3_col6\" class=\"data row3 col6\" >148.476885</td>\n",
              "            </tr>\n",
              "    </tbody></table>"
            ],
            "text/plain": [
              "<pandas.io.formats.style.Styler at 0x7fbeab3e06d0>"
            ]
          },
          "metadata": {
            "tags": []
          },
          "execution_count": 34
        }
      ]
    },
    {
      "cell_type": "code",
      "metadata": {
        "id": "KCPZGx9Dh0Cq"
      },
      "source": [
        "df_years = df_months.copy()\n",
        "for region in months_by_region:\n",
        "  df_years[region] = round(df_years[region]/12, 2)"
      ],
      "execution_count": null,
      "outputs": []
    },
    {
      "cell_type": "code",
      "metadata": {
        "colab": {
          "base_uri": "https://localhost:8080/",
          "height": 141
        },
        "id": "xPr5JycOiGLh",
        "outputId": "83834a4b-52d9-4bf7-d418-7044c5f93927"
      },
      "source": [
        "print(\"Años necesarios de ahorro para comprar un departamento de 60m2 por edad y región - Ahorro del 50% del sueldo de dos personas\")\n",
        "df_years.style.background_gradient(axis=None)"
      ],
      "execution_count": null,
      "outputs": [
        {
          "output_type": "stream",
          "text": [
            "Años necesarios de ahorro para comprar un departamento de 60m2 por edad y región - Ahorro del 50% del sueldo de dos personas\n"
          ],
          "name": "stdout"
        },
        {
          "output_type": "execute_result",
          "data": {
            "text/html": [
              "<style  type=\"text/css\" >\n",
              "#T_abd7fb8a_002b_11ec_86ea_0242ac1c0002row0_col1{\n",
              "            background-color:  #023858;\n",
              "            color:  #f1f1f1;\n",
              "        }#T_abd7fb8a_002b_11ec_86ea_0242ac1c0002row0_col2{\n",
              "            background-color:  #589ec8;\n",
              "            color:  #000000;\n",
              "        }#T_abd7fb8a_002b_11ec_86ea_0242ac1c0002row0_col3{\n",
              "            background-color:  #03446a;\n",
              "            color:  #f1f1f1;\n",
              "        }#T_abd7fb8a_002b_11ec_86ea_0242ac1c0002row0_col4{\n",
              "            background-color:  #d4d4e8;\n",
              "            color:  #000000;\n",
              "        }#T_abd7fb8a_002b_11ec_86ea_0242ac1c0002row0_col5{\n",
              "            background-color:  #046096;\n",
              "            color:  #f1f1f1;\n",
              "        }#T_abd7fb8a_002b_11ec_86ea_0242ac1c0002row0_col6{\n",
              "            background-color:  #4897c4;\n",
              "            color:  #000000;\n",
              "        }#T_abd7fb8a_002b_11ec_86ea_0242ac1c0002row1_col1{\n",
              "            background-color:  #034165;\n",
              "            color:  #f1f1f1;\n",
              "        }#T_abd7fb8a_002b_11ec_86ea_0242ac1c0002row1_col2{\n",
              "            background-color:  #b4c4df;\n",
              "            color:  #000000;\n",
              "        }#T_abd7fb8a_002b_11ec_86ea_0242ac1c0002row1_col3{\n",
              "            background-color:  #348ebf;\n",
              "            color:  #000000;\n",
              "        }#T_abd7fb8a_002b_11ec_86ea_0242ac1c0002row1_col4{\n",
              "            background-color:  #e1dfed;\n",
              "            color:  #000000;\n",
              "        }#T_abd7fb8a_002b_11ec_86ea_0242ac1c0002row1_col5{\n",
              "            background-color:  #79abd0;\n",
              "            color:  #000000;\n",
              "        }#T_abd7fb8a_002b_11ec_86ea_0242ac1c0002row1_col6{\n",
              "            background-color:  #89b1d4;\n",
              "            color:  #000000;\n",
              "        }#T_abd7fb8a_002b_11ec_86ea_0242ac1c0002row2_col1{\n",
              "            background-color:  #2182b9;\n",
              "            color:  #000000;\n",
              "        }#T_abd7fb8a_002b_11ec_86ea_0242ac1c0002row2_col2{\n",
              "            background-color:  #cdd0e5;\n",
              "            color:  #000000;\n",
              "        }#T_abd7fb8a_002b_11ec_86ea_0242ac1c0002row2_col3{\n",
              "            background-color:  #62a2cb;\n",
              "            color:  #000000;\n",
              "        }#T_abd7fb8a_002b_11ec_86ea_0242ac1c0002row2_col4{\n",
              "            background-color:  #ebe6f2;\n",
              "            color:  #000000;\n",
              "        }#T_abd7fb8a_002b_11ec_86ea_0242ac1c0002row2_col5{\n",
              "            background-color:  #97b7d7;\n",
              "            color:  #000000;\n",
              "        }#T_abd7fb8a_002b_11ec_86ea_0242ac1c0002row2_col6{\n",
              "            background-color:  #c5cce3;\n",
              "            color:  #000000;\n",
              "        }#T_abd7fb8a_002b_11ec_86ea_0242ac1c0002row3_col1{\n",
              "            background-color:  #5c9fc9;\n",
              "            color:  #000000;\n",
              "        }#T_abd7fb8a_002b_11ec_86ea_0242ac1c0002row3_col2{\n",
              "            background-color:  #e2dfee;\n",
              "            color:  #000000;\n",
              "        }#T_abd7fb8a_002b_11ec_86ea_0242ac1c0002row3_col3{\n",
              "            background-color:  #71a8ce;\n",
              "            color:  #000000;\n",
              "        }#T_abd7fb8a_002b_11ec_86ea_0242ac1c0002row3_col4{\n",
              "            background-color:  #fff7fb;\n",
              "            color:  #000000;\n",
              "        }#T_abd7fb8a_002b_11ec_86ea_0242ac1c0002row3_col5{\n",
              "            background-color:  #bbc7e0;\n",
              "            color:  #000000;\n",
              "        }#T_abd7fb8a_002b_11ec_86ea_0242ac1c0002row3_col6{\n",
              "            background-color:  #c8cde4;\n",
              "            color:  #000000;\n",
              "        }</style><table id=\"T_abd7fb8a_002b_11ec_86ea_0242ac1c0002\" ><thead>    <tr>        <th class=\"blank level0\" ></th>        <th class=\"col_heading level0 col0\" >Edad</th>        <th class=\"col_heading level0 col1\" >Gran Buenos Aires</th>        <th class=\"col_heading level0 col2\" >NOA</th>        <th class=\"col_heading level0 col3\" >NEA</th>        <th class=\"col_heading level0 col4\" >Cuyo</th>        <th class=\"col_heading level0 col5\" >Pampeana</th>        <th class=\"col_heading level0 col6\" >Patagónica</th>    </tr></thead><tbody>\n",
              "                <tr>\n",
              "                        <th id=\"T_abd7fb8a_002b_11ec_86ea_0242ac1c0002level0_row0\" class=\"row_heading level0 row0\" >0</th>\n",
              "                        <td id=\"T_abd7fb8a_002b_11ec_86ea_0242ac1c0002row0_col0\" class=\"data row0 col0\" >20-29</td>\n",
              "                        <td id=\"T_abd7fb8a_002b_11ec_86ea_0242ac1c0002row0_col1\" class=\"data row0 col1\" >28.680000</td>\n",
              "                        <td id=\"T_abd7fb8a_002b_11ec_86ea_0242ac1c0002row0_col2\" class=\"data row0 col2\" >18.660000</td>\n",
              "                        <td id=\"T_abd7fb8a_002b_11ec_86ea_0242ac1c0002row0_col3\" class=\"data row0 col3\" >27.630000</td>\n",
              "                        <td id=\"T_abd7fb8a_002b_11ec_86ea_0242ac1c0002row0_col4\" class=\"data row0 col4\" >11.360000</td>\n",
              "                        <td id=\"T_abd7fb8a_002b_11ec_86ea_0242ac1c0002row0_col5\" class=\"data row0 col5\" >25.130000</td>\n",
              "                        <td id=\"T_abd7fb8a_002b_11ec_86ea_0242ac1c0002row0_col6\" class=\"data row0 col6\" >19.410000</td>\n",
              "            </tr>\n",
              "            <tr>\n",
              "                        <th id=\"T_abd7fb8a_002b_11ec_86ea_0242ac1c0002level0_row1\" class=\"row_heading level0 row1\" >1</th>\n",
              "                        <td id=\"T_abd7fb8a_002b_11ec_86ea_0242ac1c0002row1_col0\" class=\"data row1 col0\" >30-39</td>\n",
              "                        <td id=\"T_abd7fb8a_002b_11ec_86ea_0242ac1c0002row1_col1\" class=\"data row1 col1\" >27.940000</td>\n",
              "                        <td id=\"T_abd7fb8a_002b_11ec_86ea_0242ac1c0002row1_col2\" class=\"data row1 col2\" >13.630000</td>\n",
              "                        <td id=\"T_abd7fb8a_002b_11ec_86ea_0242ac1c0002row1_col3\" class=\"data row1 col3\" >20.360000</td>\n",
              "                        <td id=\"T_abd7fb8a_002b_11ec_86ea_0242ac1c0002row1_col4\" class=\"data row1 col4\" >10.100000</td>\n",
              "                        <td id=\"T_abd7fb8a_002b_11ec_86ea_0242ac1c0002row1_col5\" class=\"data row1 col5\" >17.120000</td>\n",
              "                        <td id=\"T_abd7fb8a_002b_11ec_86ea_0242ac1c0002row1_col6\" class=\"data row1 col6\" >16.180000</td>\n",
              "            </tr>\n",
              "            <tr>\n",
              "                        <th id=\"T_abd7fb8a_002b_11ec_86ea_0242ac1c0002level0_row2\" class=\"row_heading level0 row2\" >2</th>\n",
              "                        <td id=\"T_abd7fb8a_002b_11ec_86ea_0242ac1c0002row2_col0\" class=\"data row2 col0\" >40-49</td>\n",
              "                        <td id=\"T_abd7fb8a_002b_11ec_86ea_0242ac1c0002row2_col1\" class=\"data row2 col1\" >21.460000</td>\n",
              "                        <td id=\"T_abd7fb8a_002b_11ec_86ea_0242ac1c0002row2_col2\" class=\"data row2 col2\" >11.990000</td>\n",
              "                        <td id=\"T_abd7fb8a_002b_11ec_86ea_0242ac1c0002row2_col3\" class=\"data row2 col3\" >18.210000</td>\n",
              "                        <td id=\"T_abd7fb8a_002b_11ec_86ea_0242ac1c0002row2_col4\" class=\"data row2 col4\" >9.050000</td>\n",
              "                        <td id=\"T_abd7fb8a_002b_11ec_86ea_0242ac1c0002row2_col5\" class=\"data row2 col5\" >15.410000</td>\n",
              "                        <td id=\"T_abd7fb8a_002b_11ec_86ea_0242ac1c0002row2_col6\" class=\"data row2 col6\" >12.500000</td>\n",
              "            </tr>\n",
              "            <tr>\n",
              "                        <th id=\"T_abd7fb8a_002b_11ec_86ea_0242ac1c0002level0_row3\" class=\"row_heading level0 row3\" >3</th>\n",
              "                        <td id=\"T_abd7fb8a_002b_11ec_86ea_0242ac1c0002row3_col0\" class=\"data row3 col0\" >50-59</td>\n",
              "                        <td id=\"T_abd7fb8a_002b_11ec_86ea_0242ac1c0002row3_col1\" class=\"data row3 col1\" >18.510000</td>\n",
              "                        <td id=\"T_abd7fb8a_002b_11ec_86ea_0242ac1c0002row3_col2\" class=\"data row3 col2\" >9.990000</td>\n",
              "                        <td id=\"T_abd7fb8a_002b_11ec_86ea_0242ac1c0002row3_col3\" class=\"data row3 col3\" >17.580000</td>\n",
              "                        <td id=\"T_abd7fb8a_002b_11ec_86ea_0242ac1c0002row3_col4\" class=\"data row3 col4\" >6.140000</td>\n",
              "                        <td id=\"T_abd7fb8a_002b_11ec_86ea_0242ac1c0002row3_col5\" class=\"data row3 col5\" >13.210000</td>\n",
              "                        <td id=\"T_abd7fb8a_002b_11ec_86ea_0242ac1c0002row3_col6\" class=\"data row3 col6\" >12.370000</td>\n",
              "            </tr>\n",
              "    </tbody></table>"
            ],
            "text/plain": [
              "<pandas.io.formats.style.Styler at 0x7fbeb2c48190>"
            ]
          },
          "metadata": {
            "tags": []
          },
          "execution_count": 37
        }
      ]
    },
    {
      "cell_type": "code",
      "metadata": {
        "id": "mz8grj35icyW"
      },
      "source": [],
      "execution_count": null,
      "outputs": []
    }
  ]
}